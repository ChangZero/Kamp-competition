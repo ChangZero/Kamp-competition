{
 "cells": [
  {
   "cell_type": "code",
   "execution_count": 2,
   "id": "8c8a145c-efc6-460b-8c7e-526bf3a3f271",
   "metadata": {},
   "outputs": [],
   "source": [
    "import pandas as pd\n",
    "import numpy as np"
   ]
  },
  {
   "cell_type": "code",
   "execution_count": 3,
   "id": "01cb57d9-e71e-42df-955e-631465bfc51b",
   "metadata": {},
   "outputs": [
    {
     "name": "stdout",
     "output_type": "stream",
     "text": [
      "<class 'pandas.core.frame.DataFrame'>\n",
      "RangeIndex: 835200 entries, 0 to 835199\n",
      "Data columns (total 7 columns):\n",
      " #   Column       Non-Null Count   Dtype  \n",
      "---  ------       --------------   -----  \n",
      " 0   STD_DT       835200 non-null  object \n",
      " 1   NUM          835200 non-null  int64  \n",
      " 2   MELT_TEMP    835200 non-null  int64  \n",
      " 3   MOTORSPEED   835200 non-null  int64  \n",
      " 4   MELT_WEIGHT  835200 non-null  int64  \n",
      " 5   INSP         835200 non-null  float64\n",
      " 6   TAG          835200 non-null  object \n",
      "dtypes: float64(1), int64(4), object(2)\n",
      "memory usage: 44.6+ MB\n"
     ]
    }
   ],
   "source": [
    "df_train = pd.read_csv('data/data.csv', sep=',')\n",
    "df_train.info()"
   ]
  },
  {
   "cell_type": "code",
   "execution_count": 4,
   "id": "7893eca0-ff68-49fc-8c8a-1f66f9c959be",
   "metadata": {},
   "outputs": [],
   "source": [
    "df_train['STD_DT'] = df_train['STD_DT'].apply(lambda x: str(x)[5:])"
   ]
  },
  {
   "cell_type": "code",
   "execution_count": null,
   "id": "d40ecf74-a440-4047-b1cd-d5ed6ff8961b",
   "metadata": {},
   "outputs": [],
   "source": [
    "df_train['STD_DT'] = df_train['STD_DT'].apply(lambda x: pd.to_datetime(str(x), format='%Y-%m-%d %H:%M'))"
   ]
  },
  {
   "cell_type": "code",
   "execution_count": null,
   "id": "1e10240e-a757-459a-a8dc-28aa2de60e7f",
   "metadata": {},
   "outputs": [],
   "source": [
    "df_train.to_csv('data_datetime.csv', mode='w', index=False)"
   ]
  },
  {
   "cell_type": "code",
   "execution_count": 44,
   "id": "cf495080-60ba-423f-86bf-969bfb982b89",
   "metadata": {},
   "outputs": [
    {
     "name": "stdout",
     "output_type": "stream",
     "text": [
      "<class 'pandas.core.frame.DataFrame'>\n",
      "RangeIndex: 835200 entries, 0 to 835199\n",
      "Data columns (total 7 columns):\n",
      " #   Column       Non-Null Count   Dtype  \n",
      "---  ------       --------------   -----  \n",
      " 0   STD_DT       835200 non-null  object \n",
      " 1   NUM          835200 non-null  int64  \n",
      " 2   MELT_TEMP    835200 non-null  int64  \n",
      " 3   MOTORSPEED   835200 non-null  int64  \n",
      " 4   MELT_WEIGHT  835200 non-null  int64  \n",
      " 5   INSP         835200 non-null  float64\n",
      " 6   TAG          835200 non-null  object \n",
      "dtypes: float64(1), int64(4), object(2)\n",
      "memory usage: 44.6+ MB\n"
     ]
    }
   ],
   "source": [
    "df_train = pd.read_csv('data/data_datetime.csv', sep=',')\n",
    "df_train.info()"
   ]
  },
  {
   "cell_type": "code",
   "execution_count": null,
   "id": "772840a9-bc32-49d4-8c95-e9eb6ffb80fb",
   "metadata": {},
   "outputs": [],
   "source": [
    "df_train = df_train.set_index(['STD_DT'])"
   ]
  },
  {
   "cell_type": "code",
   "execution_count": null,
   "id": "3d911e16-d95e-4aea-a02e-c649ff7f3987",
   "metadata": {},
   "outputs": [
    {
     "data": {
      "text/html": [
       "<div>\n",
       "<style scoped>\n",
       "    .dataframe tbody tr th:only-of-type {\n",
       "        vertical-align: middle;\n",
       "    }\n",
       "\n",
       "    .dataframe tbody tr th {\n",
       "        vertical-align: top;\n",
       "    }\n",
       "\n",
       "    .dataframe thead th {\n",
       "        text-align: right;\n",
       "    }\n",
       "</style>\n",
       "<table border=\"1\" class=\"dataframe\">\n",
       "  <thead>\n",
       "    <tr style=\"text-align: right;\">\n",
       "      <th></th>\n",
       "      <th>NUM</th>\n",
       "      <th>MELT_TEMP</th>\n",
       "      <th>MOTORSPEED</th>\n",
       "      <th>MELT_WEIGHT</th>\n",
       "      <th>INSP</th>\n",
       "      <th>TAG</th>\n",
       "    </tr>\n",
       "    <tr>\n",
       "      <th>STD_DT</th>\n",
       "      <th></th>\n",
       "      <th></th>\n",
       "      <th></th>\n",
       "      <th></th>\n",
       "      <th></th>\n",
       "      <th></th>\n",
       "    </tr>\n",
       "  </thead>\n",
       "  <tbody>\n",
       "    <tr>\n",
       "      <th>1900-03-04 00:00:00</th>\n",
       "      <td>0</td>\n",
       "      <td>489</td>\n",
       "      <td>116</td>\n",
       "      <td>631</td>\n",
       "      <td>3.19</td>\n",
       "      <td>OK</td>\n",
       "    </tr>\n",
       "    <tr>\n",
       "      <th>1900-03-04 00:00:00</th>\n",
       "      <td>1</td>\n",
       "      <td>433</td>\n",
       "      <td>78</td>\n",
       "      <td>609</td>\n",
       "      <td>3.19</td>\n",
       "      <td>OK</td>\n",
       "    </tr>\n",
       "    <tr>\n",
       "      <th>1900-03-04 00:00:00</th>\n",
       "      <td>2</td>\n",
       "      <td>464</td>\n",
       "      <td>154</td>\n",
       "      <td>608</td>\n",
       "      <td>3.19</td>\n",
       "      <td>OK</td>\n",
       "    </tr>\n",
       "    <tr>\n",
       "      <th>1900-03-04 00:00:00</th>\n",
       "      <td>3</td>\n",
       "      <td>379</td>\n",
       "      <td>212</td>\n",
       "      <td>606</td>\n",
       "      <td>3.19</td>\n",
       "      <td>OK</td>\n",
       "    </tr>\n",
       "    <tr>\n",
       "      <th>1900-03-04 00:00:00</th>\n",
       "      <td>4</td>\n",
       "      <td>798</td>\n",
       "      <td>1736</td>\n",
       "      <td>604</td>\n",
       "      <td>3.21</td>\n",
       "      <td>OK</td>\n",
       "    </tr>\n",
       "    <tr>\n",
       "      <th>1900-03-04 00:00:00</th>\n",
       "      <td>5</td>\n",
       "      <td>743</td>\n",
       "      <td>1722</td>\n",
       "      <td>603</td>\n",
       "      <td>3.21</td>\n",
       "      <td>OK</td>\n",
       "    </tr>\n",
       "    <tr>\n",
       "      <th>1900-03-04 00:00:00</th>\n",
       "      <td>6</td>\n",
       "      <td>390</td>\n",
       "      <td>212</td>\n",
       "      <td>602</td>\n",
       "      <td>3.19</td>\n",
       "      <td>OK</td>\n",
       "    </tr>\n",
       "    <tr>\n",
       "      <th>1900-03-04 00:00:00</th>\n",
       "      <td>7</td>\n",
       "      <td>493</td>\n",
       "      <td>152</td>\n",
       "      <td>600</td>\n",
       "      <td>3.19</td>\n",
       "      <td>OK</td>\n",
       "    </tr>\n",
       "    <tr>\n",
       "      <th>1900-03-04 00:00:00</th>\n",
       "      <td>8</td>\n",
       "      <td>427</td>\n",
       "      <td>0</td>\n",
       "      <td>599</td>\n",
       "      <td>3.19</td>\n",
       "      <td>OK</td>\n",
       "    </tr>\n",
       "    <tr>\n",
       "      <th>1900-03-04 00:00:00</th>\n",
       "      <td>9</td>\n",
       "      <td>489</td>\n",
       "      <td>148</td>\n",
       "      <td>598</td>\n",
       "      <td>3.20</td>\n",
       "      <td>OK</td>\n",
       "    </tr>\n",
       "    <tr>\n",
       "      <th>1900-03-04 00:01:00</th>\n",
       "      <td>10</td>\n",
       "      <td>507</td>\n",
       "      <td>128</td>\n",
       "      <td>596</td>\n",
       "      <td>3.19</td>\n",
       "      <td>OK</td>\n",
       "    </tr>\n",
       "  </tbody>\n",
       "</table>\n",
       "</div>"
      ],
      "text/plain": [
       "                     NUM  MELT_TEMP  MOTORSPEED  MELT_WEIGHT  INSP TAG\n",
       "STD_DT                                                                \n",
       "1900-03-04 00:00:00    0        489         116          631  3.19  OK\n",
       "1900-03-04 00:00:00    1        433          78          609  3.19  OK\n",
       "1900-03-04 00:00:00    2        464         154          608  3.19  OK\n",
       "1900-03-04 00:00:00    3        379         212          606  3.19  OK\n",
       "1900-03-04 00:00:00    4        798        1736          604  3.21  OK\n",
       "1900-03-04 00:00:00    5        743        1722          603  3.21  OK\n",
       "1900-03-04 00:00:00    6        390         212          602  3.19  OK\n",
       "1900-03-04 00:00:00    7        493         152          600  3.19  OK\n",
       "1900-03-04 00:00:00    8        427           0          599  3.19  OK\n",
       "1900-03-04 00:00:00    9        489         148          598  3.20  OK\n",
       "1900-03-04 00:01:00   10        507         128          596  3.19  OK"
      ]
     },
     "execution_count": 9,
     "metadata": {},
     "output_type": "execute_result"
    }
   ],
   "source": [
    "df_train.head(11)"
   ]
  },
  {
   "cell_type": "code",
   "execution_count": 38,
   "id": "d3fc5900-ff89-43c3-8026-ba028ff6faeb",
   "metadata": {},
   "outputs": [],
   "source": [
    "df_train_groups = df_train.groupby(by='STD_DT')"
   ]
  },
  {
   "cell_type": "code",
   "execution_count": 39,
   "id": "01242789-7229-4a7e-8547-c3546c7029ad",
   "metadata": {},
   "outputs": [
    {
     "data": {
      "text/plain": [
       "<pandas.core.groupby.generic.DataFrameGroupBy object at 0x00000218073231C0>"
      ]
     },
     "execution_count": 39,
     "metadata": {},
     "output_type": "execute_result"
    }
   ],
   "source": [
    "df_train_groups"
   ]
  },
  {
   "cell_type": "code",
   "execution_count": 40,
   "id": "4590a563-972e-45b3-9942-946bb9d40e35",
   "metadata": {},
   "outputs": [],
   "source": [
    "df_grouplst = []\n",
    "for group in df_train_groups:\n",
    "    df_grouplst.append(group)"
   ]
  },
  {
   "cell_type": "code",
   "execution_count": 43,
   "id": "88f24078-8340-4112-aea8-7fec204b8045",
   "metadata": {},
   "outputs": [
    {
     "data": {
      "text/plain": [
       "('2020-03-04 00:02:00',\n",
       "                      NUM  MELT_TEMP  MOTORSPEED  MELT_WEIGHT  INSP TAG\n",
       " STD_DT                                                                \n",
       " 2020-03-04 00:02:00   20        474         135          581  3.19  OK\n",
       " 2020-03-04 00:02:00   21        446          67          580  3.19  OK\n",
       " 2020-03-04 00:02:00   22        487         161          578  3.20  OK\n",
       " 2020-03-04 00:02:00   23        393         205          577  3.18  OK\n",
       " 2020-03-04 00:02:00   24        740        1748          575  3.22  OK\n",
       " 2020-03-04 00:02:00   25        761        1721          574  3.22  OK\n",
       " 2020-03-04 00:02:00   26        383         200          572  3.18  OK\n",
       " 2020-03-04 00:02:00   27        483         167          571  3.19  OK\n",
       " 2020-03-04 00:02:00   28        435          90          570  3.18  OK\n",
       " 2020-03-04 00:02:00   29        456         111          568  3.19  OK)"
      ]
     },
     "execution_count": 43,
     "metadata": {},
     "output_type": "execute_result"
    }
   ],
   "source": [
    "df_grouplst[2]"
   ]
  },
  {
   "cell_type": "code",
   "execution_count": 50,
   "id": "b65aefdb-7b5b-48ea-9350-bcc132bd7ef3",
   "metadata": {},
   "outputs": [
    {
     "data": {
      "text/plain": [
       "Index(['2020-03-04 00:00:00', '2020-03-04 00:00:00', '2020-03-04 00:00:00',\n",
       "       '2020-03-04 00:00:00', '2020-03-04 00:00:00', '2020-03-04 00:00:00',\n",
       "       '2020-03-04 00:00:00', '2020-03-04 00:00:00', '2020-03-04 00:00:00',\n",
       "       '2020-03-04 00:00:00',\n",
       "       ...\n",
       "       '2020-04-30 23:59:00', '2020-04-30 23:59:00', '2020-04-30 23:59:00',\n",
       "       '2020-04-30 23:59:00', '2020-04-30 23:59:00', '2020-04-30 23:59:00',\n",
       "       '2020-04-30 23:59:00', '2020-04-30 23:59:00', '2020-04-30 23:59:00',\n",
       "       '2020-04-30 23:59:00'],\n",
       "      dtype='object', name='STD_DT', length=835200)"
      ]
     },
     "execution_count": 50,
     "metadata": {},
     "output_type": "execute_result"
    }
   ],
   "source": [
    "df_train['MELT_WEIGHT'].isin([0]).index"
   ]
  },
  {
   "cell_type": "code",
   "execution_count": null,
   "id": "b9bc6fb5-27f2-4808-8c6c-b5a6399d4e0c",
   "metadata": {},
   "outputs": [],
   "source": []
  }
 ],
 "metadata": {
  "kernelspec": {
   "display_name": "Python 3 (ipykernel)",
   "language": "python",
   "name": "python3"
  },
  "language_info": {
   "codemirror_mode": {
    "name": "ipython",
    "version": 3
   },
   "file_extension": ".py",
   "mimetype": "text/x-python",
   "name": "python",
   "nbconvert_exporter": "python",
   "pygments_lexer": "ipython3",
   "version": "3.9.12"
  }
 },
 "nbformat": 4,
 "nbformat_minor": 5
}
