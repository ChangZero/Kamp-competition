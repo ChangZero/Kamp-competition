{
 "cells": [
  {
   "cell_type": "code",
   "execution_count": 25,
   "id": "cbe9e6ce-cc86-425d-b46a-972b33083ef6",
   "metadata": {},
   "outputs": [],
   "source": [
    "import pandas as pd\n",
    "import numpy as np\n",
    "from sklearn import preprocessing\n",
    "import seaborn as sns\n",
    "import matplotlib.pyplot as plt\n",
    "import random"
   ]
  },
  {
   "cell_type": "code",
   "execution_count": 26,
   "id": "01cb57d9-e71e-42df-955e-631465bfc51b",
   "metadata": {},
   "outputs": [
    {
     "name": "stdout",
     "output_type": "stream",
     "text": [
      "<class 'pandas.core.frame.DataFrame'>\n",
      "RangeIndex: 835200 entries, 0 to 835199\n",
      "Data columns (total 7 columns):\n",
      " #   Column       Non-Null Count   Dtype  \n",
      "---  ------       --------------   -----  \n",
      " 0   STD_DT       835200 non-null  object \n",
      " 1   NUM          835200 non-null  int64  \n",
      " 2   MELT_TEMP    835200 non-null  int64  \n",
      " 3   MOTORSPEED   835200 non-null  int64  \n",
      " 4   MELT_WEIGHT  835200 non-null  int64  \n",
      " 5   INSP         835200 non-null  float64\n",
      " 6   TAG          835200 non-null  object \n",
      "dtypes: float64(1), int64(4), object(2)\n",
      "memory usage: 44.6+ MB\n"
     ]
    }
   ],
   "source": [
    "df_train = pd.read_csv('data/data_datetime.csv', sep=',')\n",
    "df_train.info()"
   ]
  },
  {
   "cell_type": "code",
   "execution_count": 27,
   "id": "66caaef2-4dee-4ed4-9e33-fc29b86bb281",
   "metadata": {},
   "outputs": [],
   "source": [
    "encoder = preprocessing.LabelEncoder()\n",
    "df_train['TAG'] = encoder.fit_transform(df_train['TAG'])\n",
    "df_train['TAG'] = df_train['TAG'].astype('int')"
   ]
  },
  {
   "cell_type": "code",
   "execution_count": 28,
   "id": "d84a1504-62c7-42ab-bb9c-ffdcaa51c22f",
   "metadata": {},
   "outputs": [],
   "source": [
    "df_MWzeroidx = df_train[df_train['MELT_WEIGHT']==0]\n",
    "\n",
    "idxlst = []\n",
    "\n",
    "for i in range(0, len(df_MWzeroidx.index)):\n",
    "    \n",
    "    if df_MWzeroidx.index[i] - df_MWzeroidx.index[i-1] < 300:\n",
    "        continue\n",
    "    idxlst.append(df_MWzeroidx.index[i])\n",
    "\n",
    "idxlst.insert(0, 0)\n",
    "idxlst.insert(1,406)\n",
    "\n",
    "proclst = []\n",
    "for i in range(1,len(idxlst)):\n",
    "    proclst.append([idxlst[i-1],idxlst[i]])"
   ]
  },
  {
   "cell_type": "code",
   "execution_count": 29,
   "id": "095acb0f-cd0e-4f16-a292-9e83dfe8c833",
   "metadata": {},
   "outputs": [],
   "source": [
    "ngproclst = []\n",
    "okproclst = []\n",
    "for procidx in proclst:\n",
    "    df_proc = df_train.iloc[procidx[0]:procidx[1],:]\n",
    "    if df_proc['TAG'][df_proc['TAG']==0].count() > 0:\n",
    "        ngproclst.append(procidx)\n",
    "        continue\n",
    "    okproclst.append(procidx)"
   ]
  },
  {
   "cell_type": "code",
   "execution_count": 30,
   "id": "ea7b5703-b201-4c8a-adcb-7d75507ac8de",
   "metadata": {},
   "outputs": [
    {
     "data": {
      "text/plain": [
       "634"
      ]
     },
     "execution_count": 30,
     "metadata": {},
     "output_type": "execute_result"
    }
   ],
   "source": [
    "len(okproclst)"
   ]
  },
  {
   "cell_type": "code",
   "execution_count": 31,
   "id": "39afed0f-cab7-4638-9b53-b7acbf291f71",
   "metadata": {},
   "outputs": [
    {
     "data": {
      "text/plain": [
       "607"
      ]
     },
     "execution_count": 31,
     "metadata": {},
     "output_type": "execute_result"
    }
   ],
   "source": [
    "len(ngproclst)"
   ]
  },
  {
   "cell_type": "code",
   "execution_count": 32,
   "id": "3b67f80b-8bb3-4152-ace4-584294daff56",
   "metadata": {},
   "outputs": [
    {
     "name": "stdout",
     "output_type": "stream",
     "text": [
      "[390, 1119, 59, 264, 98, 819, 666, 1055, 952, 601, 691, 859, 100, 853, 345, 788, 450, 503, 1012, 182, 1044, 927, 694, 1065, 1151, 993, 207, 47, 1072, 427, 261, 487, 1184, 476, 453, 231, 376, 801, 111, 308]\n"
     ]
    }
   ],
   "source": [
    "randlst = []\n",
    "for _ in range(0, 40):\n",
    "    randlst.append(random.randrange(0, len(proclst)))\n",
    "print(randlst)"
   ]
  },
  {
   "cell_type": "code",
   "execution_count": 33,
   "id": "3f8070c5-a3e9-47db-8141-813aeab14257",
   "metadata": {},
   "outputs": [],
   "source": [
    "# 차분\n",
    "df_train['diff_MELT_TEMP'] = df_train['MELT_TEMP'].diff(1)\n",
    "# 로그\n",
    "df_train['log_MELT_TEMP'] = np.log(df_train['MELT_TEMP'])\n",
    "# 로그차분\n",
    "df_train['logdiff_MELT_TEMP'] = np.log(df_train['MELT_TEMP']).diff(1)"
   ]
  },
  {
   "cell_type": "code",
   "execution_count": 35,
   "id": "5821c815-aca6-4a7d-9654-95c823ab82cb",
   "metadata": {},
   "outputs": [],
   "source": [
    "df_train = df_train.set_index(['STD_DT'])"
   ]
  },
  {
   "cell_type": "code",
   "execution_count": 36,
   "id": "d1f1328b-82c1-404f-800c-19822603c77b",
   "metadata": {},
   "outputs": [],
   "source": [
    "def processPlot(df, lst):\n",
    "    col_name = ['MELT_TEMP', 'diff_MELT_TEMP','log_MELT_TEMP', 'logdiff_MELT_TEMP']\n",
    "    plt.figure(figsize=(30,18))\n",
    "    for i in range(len(col_name)):\n",
    "        num = 221+i\n",
    "        plt.subplot(num)\n",
    "        plt.plot(df[col_name[i]][lst[0]:lst[1]+1])\n",
    "        plt.xticks(rotation=90)\n",
    "        plt.title(col_name[i])\n",
    "    plt.subplots_adjust(left=0.125, bottom=0.1, right=0.9, top=0.9, wspace=0.2, hspace=0.35)\n",
    "    plt.suptitle(f'Pocess {lst[0]} ~ {lst[1]}',fontsize=20)\n",
    "    plt.show()"
   ]
  },
  {
   "cell_type": "code",
   "execution_count": null,
   "id": "ff739a35-db75-4489-aaaa-d54d23b0c444",
   "metadata": {},
   "outputs": [],
   "source": [
    "from statsmodels.tsa.stattools import adfuller\n",
    "# 정상성 판단 ADF(Augmented Dicky-Fuller Test) 검정\n",
    "def print_adfuller (x):\n",
    "    result = adfuller(x)\n",
    "    print(f'ADF Statistic: {result[0]:.3f}')\n",
    "    print(f'p-value: {result[1]:.3f}')\n",
    "    print('Critical Values:')\n",
    "    for key, value in result[4].items():\n",
    "        print('\\t%s: %.3f' % (key, value))\n",
    "\n",
    "print_adfuller(df_train['MELT_TEMP'])\n",
    "print(\"-\"*30)\n",
    "print_adfuller(df_train['log_MELT_TEMP'])\n",
    "print(\"-\"*30)\n",
    "print_adfuller(df_train['diff_MELT_TEMP'][1:]) \n",
    "print(\"-\"*30)\n",
    "print_adfuller(df_train['logdiff_MELT_TEMP'][1:])\n",
    "print(\"-\"*30)"
   ]
  },
  {
   "cell_type": "code",
   "execution_count": 38,
   "id": "288e2c9f-054a-4df4-9cf9-9ec475e9768d",
   "metadata": {},
   "outputs": [],
   "source": [
    "cols = ['MELT_TEMP', 'diff_MELT_TEMP','log_MELT_TEMP', 'logdiff_MELT_TEMP']"
   ]
  },
  {
   "cell_type": "code",
   "execution_count": 39,
   "id": "2350a541-7e7e-46f4-98c5-efa7cb26a2be",
   "metadata": {},
   "outputs": [],
   "source": [
    "from statsmodels.graphics.tsaplots import plot_acf"
   ]
  },
  {
   "cell_type": "code",
   "execution_count": 40,
   "id": "83e72725-287d-4760-88bd-3429fee55158",
   "metadata": {},
   "outputs": [],
   "source": [
    "def adfPlot(df, cols, lst):    \n",
    "    fig,ax = plt.subplots(4,2, figsize=(12,16))\n",
    "    ax[0,0].plot(df[cols[0]])\n",
    "    ax[0,0].set_title(cols[0])\n",
    "    ax[1,0].plot(df[cols[1]])\n",
    "    ax[1,0].set_title(cols[1])\n",
    "    ax[2,0].plot(df[cols[2]])\n",
    "    ax[2,0].set_title(cols[2])\n",
    "    ax[3,0].plot(df[cols[3]])\n",
    "    ax[3,0].set_title(cols[3])\n",
    "\n",
    "    plot_acf(df[cols[0]][lst[0]:lst[1]+1],ax=ax[0,1])\n",
    "    plot_acf(df[cols[1]][lst[0]:lst[1]+1],ax=ax[1,1])\n",
    "    plot_acf(df[cols[2]][lst[0]:lst[1]+1],ax=ax[2,1])\n",
    "    plot_acf(df[cols[3]][lst[0]:lst[1]+1],ax=ax[3,1])\n",
    "\n",
    "    plt.show()"
   ]
  },
  {
   "cell_type": "code",
   "execution_count": null,
   "id": "c9ddf4f9-4006-481f-987f-1c096d584995",
   "metadata": {},
   "outputs": [],
   "source": [
    "for rand in randlst:\n",
    "    adfPlot(df_train, cols, proclst[rand])"
   ]
  },
  {
   "cell_type": "code",
   "execution_count": null,
   "id": "51f6f104-ab20-4ebc-b76d-64f3757c6ef2",
   "metadata": {},
   "outputs": [],
   "source": []
  }
 ],
 "metadata": {
  "kernelspec": {
   "display_name": "Python 3 (ipykernel)",
   "language": "python",
   "name": "python3"
  },
  "language_info": {
   "codemirror_mode": {
    "name": "ipython",
    "version": 3
   },
   "file_extension": ".py",
   "mimetype": "text/x-python",
   "name": "python",
   "nbconvert_exporter": "python",
   "pygments_lexer": "ipython3",
   "version": "3.9.12"
  }
 },
 "nbformat": 4,
 "nbformat_minor": 5
}
